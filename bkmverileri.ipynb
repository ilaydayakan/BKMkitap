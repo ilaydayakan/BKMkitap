{
 "cells": [
  {
   "cell_type": "code",
   "execution_count": 28,
   "metadata": {},
   "outputs": [],
   "source": [
    "import requests\n",
    "from bs4 import BeautifulSoup\n",
    "import pandas as pd"
   ]
  },
  {
   "cell_type": "code",
   "execution_count": 29,
   "metadata": {},
   "outputs": [],
   "source": [
    "url = \"https://www.bkmkitap.com/kitap/cok-satan-kitaplar\"\n",
    "response = requests.get(url)\n",
    "html_icerigi = response.content\n",
    "soup = BeautifulSoup(html_icerigi,\"html.parser\")\n",
    "fiyat = soup.find_all(\"div\",{\"class\":\"col col-12 currentPrice\"})\n",
    "isim =soup.find_all(\"a\",{\"class\":\"fl col-12 text-description detailLink\"})\n",
    "yazar = soup.find_all(\"a\",{\"class\":\"fl col-12 text-title\"})\n",
    "yayın = soup.find_all(\"a\",{\"class\":\"col col-12 text-title mt\"})"
   ]
  },
  {
   "cell_type": "code",
   "execution_count": null,
   "metadata": {},
   "outputs": [],
   "source": [
    "liste = list()\n",
    "\n",
    "for i in range(len(isim)):\n",
    "    isim[i] = (isim[i].text).strip(\"\\n\").strip()\n",
    "    yazar[i] = (yazar[i].text).strip(\"\\n\").strip()\n",
    "    yayın[i] = (yayın[i].text).strip(\"\\n\").strip()\n",
    "    fiyat[i] = (fiyat[i].text).strip(\"\\n\").replace(\"\\nTL\",\" TL\").strip()\n",
    "    liste.append([isim[i],yazar[i],yayın[i],fiyat[i]])\n",
    "\n",
    "df = pd.DataFrame(liste,columns = [\"Kitap İsmi\",\"Yazar\",\"Yayın Evi\",\"Fiyat\"])\n",
    "print(df)"
   ]
  },
  {
   "cell_type": "code",
   "execution_count": null,
   "metadata": {},
   "outputs": [],
   "source": [
    "# Veri setinin genel yapısını gözden geçirme\n",
    "print(df.head())"
   ]
  },
  {
   "cell_type": "code",
   "execution_count": null,
   "metadata": {},
   "outputs": [],
   "source": [
    "import matplotlib.pyplot as plt\n",
    "import seaborn as sns\n",
    "\n",
    "# Kitap fiyatlarının dağılımı histogramı\n",
    "plt.figure(figsize=(50, 7))\n",
    "sns.histplot(df['Fiyat'], bins=300, kde=True)\n",
    "plt.title('Kitap Fiyatlarının Dağılımı')\n",
    "plt.xlabel('Fiyat (TL)')\n",
    "plt.show()"
   ]
  },
  {
   "cell_type": "code",
   "execution_count": null,
   "metadata": {},
   "outputs": [],
   "source": [
    "# Yayın evlerine göre kitap sayıları\n",
    "plt.figure(figsize=(20, 6))\n",
    "sns.countplot(x='Yayın Evi', data=df, palette='viridis')\n",
    "plt.title('Yayın Evi Kitap Sayıları')\n",
    "plt.xticks(rotation=45)\n",
    "plt.xlabel('Yayın Evi')\n",
    "plt.ylabel('Kitap Sayısı')\n",
    "plt.show()"
   ]
  }
 ],
 "metadata": {
  "kernelspec": {
   "display_name": "Python 3",
   "language": "python",
   "name": "python3"
  },
  "language_info": {
   "codemirror_mode": {
    "name": "ipython",
    "version": 3
   },
   "file_extension": ".py",
   "mimetype": "text/x-python",
   "name": "python",
   "nbconvert_exporter": "python",
   "pygments_lexer": "ipython3",
   "version": "3.12.3"
  }
 },
 "nbformat": 4,
 "nbformat_minor": 2
}
